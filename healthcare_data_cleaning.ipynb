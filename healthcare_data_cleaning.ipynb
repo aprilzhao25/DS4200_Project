{
 "cells": [
  {
   "cell_type": "markdown",
   "metadata": {},
   "source": [
    "# Healthcare Data Cleaning"
   ]
  },
  {
   "cell_type": "markdown",
   "metadata": {},
   "source": [
    "### Data Analysis Goal\n",
    "How patient demographics correlate with their episode of care"
   ]
  },
  {
   "cell_type": "markdown",
   "metadata": {},
   "source": [
    "### Imports "
   ]
  },
  {
   "cell_type": "code",
   "execution_count": 5,
   "metadata": {},
   "outputs": [],
   "source": [
    "import pandas as pd"
   ]
  },
  {
   "cell_type": "code",
   "execution_count": 14,
   "metadata": {},
   "outputs": [],
   "source": [
    "# Cleaned data already saved to healthcare_dataset_cleaned.csv. If you find more cleaning that needs to happen, add it here and rerun.\n",
    "\n",
    "df_healthcare = pd.read_csv(\"healthcare_dataset.csv\")\n",
    "df_healthcare_reduced = df_healthcare.head(8000)\n",
    "df_healthcare_reduced.loc[:, 'Name'] = df_healthcare_reduced['Name'].str.title()\n",
    "df_healthcare_reduced.loc[:, 'Billing Amount'] = df_healthcare_reduced['Billing Amount'].round(0)\n",
    "df_healthcare_reduced = df_healthcare_reduced.copy()\n",
    "df_healthcare_reduced.loc[:, 'Duration of Stay'] = pd.to_datetime(df_healthcare_reduced['Discharge Date']) - pd.to_datetime(df_healthcare_reduced['Date of Admission'])\n",
    "df_healthcare_reduced.to_csv('healthcare_dataset_cleaned.csv', index = False)\n"
   ]
  }
 ],
 "metadata": {
  "kernelspec": {
   "display_name": "myenv3.12",
   "language": "python",
   "name": "python3"
  },
  "language_info": {
   "codemirror_mode": {
    "name": "ipython",
    "version": 3
   },
   "file_extension": ".py",
   "mimetype": "text/x-python",
   "name": "python",
   "nbconvert_exporter": "python",
   "pygments_lexer": "ipython3",
   "version": "3.12.4"
  }
 },
 "nbformat": 4,
 "nbformat_minor": 2
}
