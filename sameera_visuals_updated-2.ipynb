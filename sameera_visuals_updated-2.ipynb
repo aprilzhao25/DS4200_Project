{
 "cells": [
  {
   "cell_type": "code",
   "execution_count": 7,
   "id": "a870e730-d599-4027-8f3e-d2fab693b7d9",
   "metadata": {},
   "outputs": [
    {
     "name": "stdout",
     "output_type": "stream",
     "text": [
      "Requirement already satisfied: plotly in /Users/sameeraboga/Desktop/anaconda3/lib/python3.12/site-packages (6.0.1)\n",
      "Requirement already satisfied: narwhals>=1.15.1 in /Users/sameeraboga/Desktop/anaconda3/lib/python3.12/site-packages (from plotly) (1.27.1)\n",
      "Requirement already satisfied: packaging in /Users/sameeraboga/Desktop/anaconda3/lib/python3.12/site-packages (from plotly) (23.2)\n"
     ]
    }
   ],
   "source": [
    "!pip install plotly --upgrade"
   ]
  },
  {
   "cell_type": "code",
   "execution_count": 8,
   "id": "3d1fc0e6-dbaa-4bcb-8c4d-db9770320b45",
   "metadata": {},
   "outputs": [],
   "source": [
    "import pandas as pd\n",
    "import plotly.express as px\n",
    "import plotly.io as pio\n",
    "\n",
    "pio.renderers.default = \"notebook_connected\"\n",
    "  \n",
    "df = pd.read_csv(\"healthcare_dataset_cleaned.csv\")"
   ]
  },
  {
   "cell_type": "code",
   "execution_count": 9,
   "id": "26f2552b-cd14-4768-9889-1c3c1e1c36ad",
   "metadata": {},
   "outputs": [
    {
     "data": {
      "text/plain": [
       "5"
      ]
     },
     "execution_count": 9,
     "metadata": {},
     "output_type": "execute_result"
    }
   ],
   "source": [
    "df['Medication'].nunique()"
   ]
  },
  {
   "cell_type": "code",
   "execution_count": 10,
   "id": "cc045079-4c9e-4452-b540-d2bae049f24a",
   "metadata": {},
   "outputs": [
    {
     "data": {
      "text/html": [
       "        <script type=\"text/javascript\">\n",
       "        window.PlotlyConfig = {MathJaxConfig: 'local'};\n",
       "        if (window.MathJax && window.MathJax.Hub && window.MathJax.Hub.Config) {window.MathJax.Hub.Config({SVG: {font: \"STIX-Web\"}});}\n",
       "        </script>\n",
       "        <script type=\"module\">import \"https://cdn.plot.ly/plotly-3.0.1.min\"</script>\n",
       "        "
      ]
     },
     "metadata": {},
     "output_type": "display_data"
    },
    {
     "data": {
      "text/html": [
       "<div>            <script src=\"https://cdnjs.cloudflare.com/ajax/libs/mathjax/2.7.5/MathJax.js?config=TeX-AMS-MML_SVG\"></script><script type=\"text/javascript\">if (window.MathJax && window.MathJax.Hub && window.MathJax.Hub.Config) {window.MathJax.Hub.Config({SVG: {font: \"STIX-Web\"}});}</script>                <script type=\"text/javascript\">window.PlotlyConfig = {MathJaxConfig: 'local'};</script>\n",
       "        <script charset=\"utf-8\" src=\"https://cdn.plot.ly/plotly-3.0.1.min.js\"></script>                <div id=\"bc60127f-9780-4104-b6ab-464b78da33d0\" class=\"plotly-graph-div\" style=\"height:525px; width:100%;\"></div>            <script type=\"text/javascript\">                window.PLOTLYENV=window.PLOTLYENV || {};                                if (document.getElementById(\"bc60127f-9780-4104-b6ab-464b78da33d0\")) {                    Plotly.newPlot(                        \"bc60127f-9780-4104-b6ab-464b78da33d0\",                        [{\"branchvalues\":\"total\",\"customdata\":[[\"Arthritis\"],[\"Arthritis\"],[\"Arthritis\"],[\"Arthritis\"],[\"Arthritis\"],[\"Arthritis\"],[\"Asthma\"],[\"Asthma\"],[\"Asthma\"],[\"Asthma\"],[\"Asthma\"],[\"Asthma\"],[\"Cancer\"],[\"Cancer\"],[\"Cancer\"],[\"Cancer\"],[\"Cancer\"],[\"Cancer\"],[\"Diabetes\"],[\"Diabetes\"],[\"Diabetes\"],[\"Diabetes\"],[\"Diabetes\"],[\"Diabetes\"],[\"Hypertension\"],[\"Hypertension\"],[\"Hypertension\"],[\"Hypertension\"],[\"Hypertension\"],[\"Hypertension\"],[\"Obesity\"],[\"Obesity\"],[\"Obesity\"],[\"Obesity\"],[\"Obesity\"],[\"Obesity\"]],\"domain\":{\"x\":[0.0,1.0],\"y\":[0.0,1.0]},\"hovertemplate\":\"labels=%{label}\\u003cbr\\u003eCount=%{value}\\u003cbr\\u003eparent=%{parent}\\u003cbr\\u003eid=%{id}\\u003cbr\\u003eMedical Condition=%{customdata[0]}\\u003cextra\\u003e\\u003c\\u002fextra\\u003e\",\"ids\":[\"Arthritis\\u002fAspirin\",\"Arthritis\\u002fPenicillin\",\"Arthritis\\u002fParacetamol\",\"Arthritis\",\"Arthritis\\u002fIbuprofen\",\"Arthritis\\u002fLipitor\",\"Asthma\\u002fAspirin\",\"Asthma\\u002fIbuprofen\",\"Asthma\\u002fLipitor\",\"Asthma\\u002fParacetamol\",\"Asthma\",\"Asthma\\u002fPenicillin\",\"Cancer\\u002fAspirin\",\"Cancer\\u002fIbuprofen\",\"Cancer\\u002fLipitor\",\"Cancer\\u002fParacetamol\",\"Cancer\\u002fPenicillin\",\"Cancer\",\"Diabetes\",\"Diabetes\\u002fLipitor\",\"Diabetes\\u002fParacetamol\",\"Diabetes\\u002fIbuprofen\",\"Diabetes\\u002fAspirin\",\"Diabetes\\u002fPenicillin\",\"Hypertension\\u002fAspirin\",\"Hypertension\\u002fIbuprofen\",\"Hypertension\\u002fLipitor\",\"Hypertension\\u002fParacetamol\",\"Hypertension\\u002fPenicillin\",\"Hypertension\",\"Obesity\\u002fAspirin\",\"Obesity\\u002fIbuprofen\",\"Obesity\\u002fLipitor\",\"Obesity\\u002fParacetamol\",\"Obesity\\u002fPenicillin\",\"Obesity\"],\"labels\":[\"Aspirin\",\"Penicillin\",\"Paracetamol\",\"Arthritis\",\"Ibuprofen\",\"Lipitor\",\"Aspirin\",\"Ibuprofen\",\"Lipitor\",\"Paracetamol\",\"Asthma\",\"Penicillin\",\"Aspirin\",\"Ibuprofen\",\"Lipitor\",\"Paracetamol\",\"Penicillin\",\"Cancer\",\"Diabetes\",\"Lipitor\",\"Paracetamol\",\"Ibuprofen\",\"Aspirin\",\"Penicillin\",\"Aspirin\",\"Ibuprofen\",\"Lipitor\",\"Paracetamol\",\"Penicillin\",\"Hypertension\",\"Aspirin\",\"Ibuprofen\",\"Lipitor\",\"Paracetamol\",\"Penicillin\",\"Obesity\"],\"marker\":{\"colors\":[\"rgb(141,211,199)\",\"rgb(141,211,199)\",\"rgb(141,211,199)\",\"rgb(141,211,199)\",\"rgb(141,211,199)\",\"rgb(141,211,199)\",\"rgb(255,255,179)\",\"rgb(255,255,179)\",\"rgb(255,255,179)\",\"rgb(255,255,179)\",\"rgb(255,255,179)\",\"rgb(255,255,179)\",\"rgb(190,186,218)\",\"rgb(190,186,218)\",\"rgb(190,186,218)\",\"rgb(190,186,218)\",\"rgb(190,186,218)\",\"rgb(190,186,218)\",\"rgb(251,128,114)\",\"rgb(251,128,114)\",\"rgb(251,128,114)\",\"rgb(251,128,114)\",\"rgb(251,128,114)\",\"rgb(251,128,114)\",\"rgb(128,177,211)\",\"rgb(128,177,211)\",\"rgb(128,177,211)\",\"rgb(128,177,211)\",\"rgb(128,177,211)\",\"rgb(128,177,211)\",\"rgb(253,180,98)\",\"rgb(253,180,98)\",\"rgb(253,180,98)\",\"rgb(253,180,98)\",\"rgb(253,180,98)\",\"rgb(253,180,98)\"]},\"name\":\"\",\"parents\":[\"Arthritis\",\"Arthritis\",\"Arthritis\",\"\",\"Arthritis\",\"Arthritis\",\"Asthma\",\"Asthma\",\"Asthma\",\"Asthma\",\"\",\"Asthma\",\"Cancer\",\"Cancer\",\"Cancer\",\"Cancer\",\"Cancer\",\"\",\"\",\"Diabetes\",\"Diabetes\",\"Diabetes\",\"Diabetes\",\"Diabetes\",\"Hypertension\",\"Hypertension\",\"Hypertension\",\"Hypertension\",\"Hypertension\",\"\",\"Obesity\",\"Obesity\",\"Obesity\",\"Obesity\",\"Obesity\",\"\"],\"values\":{\"dtype\":\"f8\",\"bdata\":\"AAAAAADAcEAAAAAAAJBxQAAAAAAAkHBAAAAAAADUlEAAAAAAAABxQAAAAAAA4G5AAAAAAABwcEAAAAAAAJBxQAAAAAAAQHBAAAAAAABQcEAAAAAAABCVQAAAAAAAsHFAAAAAAADgb0AAAAAAAJBwQAAAAAAA8HFAAAAAAADwcEAAAAAAAGBxQAAAAAAAMJVAAAAAAABglEAAAAAAAABxQAAAAAAA4G1AAAAAAAAAcUAAAAAAAEBsQAAAAAAAcHJAAAAAAACgcEAAAAAAAMBwQAAAAAAA8HJAAAAAAAAwcEAAAAAAAGBvQAAAAAAADJVAAAAAAACQcUAAAAAAAOBwQAAAAAAAAG9AAAAAAADAcEAAAAAAAKBuQAAAAAAAgJRA\"},\"type\":\"treemap\"}],                        {\"template\":{\"data\":{\"histogram2dcontour\":[{\"type\":\"histogram2dcontour\",\"colorbar\":{\"outlinewidth\":0,\"ticks\":\"\"},\"colorscale\":[[0.0,\"#0d0887\"],[0.1111111111111111,\"#46039f\"],[0.2222222222222222,\"#7201a8\"],[0.3333333333333333,\"#9c179e\"],[0.4444444444444444,\"#bd3786\"],[0.5555555555555556,\"#d8576b\"],[0.6666666666666666,\"#ed7953\"],[0.7777777777777778,\"#fb9f3a\"],[0.8888888888888888,\"#fdca26\"],[1.0,\"#f0f921\"]]}],\"choropleth\":[{\"type\":\"choropleth\",\"colorbar\":{\"outlinewidth\":0,\"ticks\":\"\"}}],\"histogram2d\":[{\"type\":\"histogram2d\",\"colorbar\":{\"outlinewidth\":0,\"ticks\":\"\"},\"colorscale\":[[0.0,\"#0d0887\"],[0.1111111111111111,\"#46039f\"],[0.2222222222222222,\"#7201a8\"],[0.3333333333333333,\"#9c179e\"],[0.4444444444444444,\"#bd3786\"],[0.5555555555555556,\"#d8576b\"],[0.6666666666666666,\"#ed7953\"],[0.7777777777777778,\"#fb9f3a\"],[0.8888888888888888,\"#fdca26\"],[1.0,\"#f0f921\"]]}],\"heatmap\":[{\"type\":\"heatmap\",\"colorbar\":{\"outlinewidth\":0,\"ticks\":\"\"},\"colorscale\":[[0.0,\"#0d0887\"],[0.1111111111111111,\"#46039f\"],[0.2222222222222222,\"#7201a8\"],[0.3333333333333333,\"#9c179e\"],[0.4444444444444444,\"#bd3786\"],[0.5555555555555556,\"#d8576b\"],[0.6666666666666666,\"#ed7953\"],[0.7777777777777778,\"#fb9f3a\"],[0.8888888888888888,\"#fdca26\"],[1.0,\"#f0f921\"]]}],\"contourcarpet\":[{\"type\":\"contourcarpet\",\"colorbar\":{\"outlinewidth\":0,\"ticks\":\"\"}}],\"contour\":[{\"type\":\"contour\",\"colorbar\":{\"outlinewidth\":0,\"ticks\":\"\"},\"colorscale\":[[0.0,\"#0d0887\"],[0.1111111111111111,\"#46039f\"],[0.2222222222222222,\"#7201a8\"],[0.3333333333333333,\"#9c179e\"],[0.4444444444444444,\"#bd3786\"],[0.5555555555555556,\"#d8576b\"],[0.6666666666666666,\"#ed7953\"],[0.7777777777777778,\"#fb9f3a\"],[0.8888888888888888,\"#fdca26\"],[1.0,\"#f0f921\"]]}],\"surface\":[{\"type\":\"surface\",\"colorbar\":{\"outlinewidth\":0,\"ticks\":\"\"},\"colorscale\":[[0.0,\"#0d0887\"],[0.1111111111111111,\"#46039f\"],[0.2222222222222222,\"#7201a8\"],[0.3333333333333333,\"#9c179e\"],[0.4444444444444444,\"#bd3786\"],[0.5555555555555556,\"#d8576b\"],[0.6666666666666666,\"#ed7953\"],[0.7777777777777778,\"#fb9f3a\"],[0.8888888888888888,\"#fdca26\"],[1.0,\"#f0f921\"]]}],\"mesh3d\":[{\"type\":\"mesh3d\",\"colorbar\":{\"outlinewidth\":0,\"ticks\":\"\"}}],\"scatter\":[{\"fillpattern\":{\"fillmode\":\"overlay\",\"size\":10,\"solidity\":0.2},\"type\":\"scatter\"}],\"parcoords\":[{\"type\":\"parcoords\",\"line\":{\"colorbar\":{\"outlinewidth\":0,\"ticks\":\"\"}}}],\"scatterpolargl\":[{\"type\":\"scatterpolargl\",\"marker\":{\"colorbar\":{\"outlinewidth\":0,\"ticks\":\"\"}}}],\"bar\":[{\"error_x\":{\"color\":\"#2a3f5f\"},\"error_y\":{\"color\":\"#2a3f5f\"},\"marker\":{\"line\":{\"color\":\"#E5ECF6\",\"width\":0.5},\"pattern\":{\"fillmode\":\"overlay\",\"size\":10,\"solidity\":0.2}},\"type\":\"bar\"}],\"scattergeo\":[{\"type\":\"scattergeo\",\"marker\":{\"colorbar\":{\"outlinewidth\":0,\"ticks\":\"\"}}}],\"scatterpolar\":[{\"type\":\"scatterpolar\",\"marker\":{\"colorbar\":{\"outlinewidth\":0,\"ticks\":\"\"}}}],\"histogram\":[{\"marker\":{\"pattern\":{\"fillmode\":\"overlay\",\"size\":10,\"solidity\":0.2}},\"type\":\"histogram\"}],\"scattergl\":[{\"type\":\"scattergl\",\"marker\":{\"colorbar\":{\"outlinewidth\":0,\"ticks\":\"\"}}}],\"scatter3d\":[{\"type\":\"scatter3d\",\"line\":{\"colorbar\":{\"outlinewidth\":0,\"ticks\":\"\"}},\"marker\":{\"colorbar\":{\"outlinewidth\":0,\"ticks\":\"\"}}}],\"scattermap\":[{\"type\":\"scattermap\",\"marker\":{\"colorbar\":{\"outlinewidth\":0,\"ticks\":\"\"}}}],\"scattermapbox\":[{\"type\":\"scattermapbox\",\"marker\":{\"colorbar\":{\"outlinewidth\":0,\"ticks\":\"\"}}}],\"scatterternary\":[{\"type\":\"scatterternary\",\"marker\":{\"colorbar\":{\"outlinewidth\":0,\"ticks\":\"\"}}}],\"scattercarpet\":[{\"type\":\"scattercarpet\",\"marker\":{\"colorbar\":{\"outlinewidth\":0,\"ticks\":\"\"}}}],\"carpet\":[{\"aaxis\":{\"endlinecolor\":\"#2a3f5f\",\"gridcolor\":\"white\",\"linecolor\":\"white\",\"minorgridcolor\":\"white\",\"startlinecolor\":\"#2a3f5f\"},\"baxis\":{\"endlinecolor\":\"#2a3f5f\",\"gridcolor\":\"white\",\"linecolor\":\"white\",\"minorgridcolor\":\"white\",\"startlinecolor\":\"#2a3f5f\"},\"type\":\"carpet\"}],\"table\":[{\"cells\":{\"fill\":{\"color\":\"#EBF0F8\"},\"line\":{\"color\":\"white\"}},\"header\":{\"fill\":{\"color\":\"#C8D4E3\"},\"line\":{\"color\":\"white\"}},\"type\":\"table\"}],\"barpolar\":[{\"marker\":{\"line\":{\"color\":\"#E5ECF6\",\"width\":0.5},\"pattern\":{\"fillmode\":\"overlay\",\"size\":10,\"solidity\":0.2}},\"type\":\"barpolar\"}],\"pie\":[{\"automargin\":true,\"type\":\"pie\"}]},\"layout\":{\"autotypenumbers\":\"strict\",\"colorway\":[\"#636efa\",\"#EF553B\",\"#00cc96\",\"#ab63fa\",\"#FFA15A\",\"#19d3f3\",\"#FF6692\",\"#B6E880\",\"#FF97FF\",\"#FECB52\"],\"font\":{\"color\":\"#2a3f5f\"},\"hovermode\":\"closest\",\"hoverlabel\":{\"align\":\"left\"},\"paper_bgcolor\":\"white\",\"plot_bgcolor\":\"#E5ECF6\",\"polar\":{\"bgcolor\":\"#E5ECF6\",\"angularaxis\":{\"gridcolor\":\"white\",\"linecolor\":\"white\",\"ticks\":\"\"},\"radialaxis\":{\"gridcolor\":\"white\",\"linecolor\":\"white\",\"ticks\":\"\"}},\"ternary\":{\"bgcolor\":\"#E5ECF6\",\"aaxis\":{\"gridcolor\":\"white\",\"linecolor\":\"white\",\"ticks\":\"\"},\"baxis\":{\"gridcolor\":\"white\",\"linecolor\":\"white\",\"ticks\":\"\"},\"caxis\":{\"gridcolor\":\"white\",\"linecolor\":\"white\",\"ticks\":\"\"}},\"coloraxis\":{\"colorbar\":{\"outlinewidth\":0,\"ticks\":\"\"}},\"colorscale\":{\"sequential\":[[0.0,\"#0d0887\"],[0.1111111111111111,\"#46039f\"],[0.2222222222222222,\"#7201a8\"],[0.3333333333333333,\"#9c179e\"],[0.4444444444444444,\"#bd3786\"],[0.5555555555555556,\"#d8576b\"],[0.6666666666666666,\"#ed7953\"],[0.7777777777777778,\"#fb9f3a\"],[0.8888888888888888,\"#fdca26\"],[1.0,\"#f0f921\"]],\"sequentialminus\":[[0.0,\"#0d0887\"],[0.1111111111111111,\"#46039f\"],[0.2222222222222222,\"#7201a8\"],[0.3333333333333333,\"#9c179e\"],[0.4444444444444444,\"#bd3786\"],[0.5555555555555556,\"#d8576b\"],[0.6666666666666666,\"#ed7953\"],[0.7777777777777778,\"#fb9f3a\"],[0.8888888888888888,\"#fdca26\"],[1.0,\"#f0f921\"]],\"diverging\":[[0,\"#8e0152\"],[0.1,\"#c51b7d\"],[0.2,\"#de77ae\"],[0.3,\"#f1b6da\"],[0.4,\"#fde0ef\"],[0.5,\"#f7f7f7\"],[0.6,\"#e6f5d0\"],[0.7,\"#b8e186\"],[0.8,\"#7fbc41\"],[0.9,\"#4d9221\"],[1,\"#276419\"]]},\"xaxis\":{\"gridcolor\":\"white\",\"linecolor\":\"white\",\"ticks\":\"\",\"title\":{\"standoff\":15},\"zerolinecolor\":\"white\",\"automargin\":true,\"zerolinewidth\":2},\"yaxis\":{\"gridcolor\":\"white\",\"linecolor\":\"white\",\"ticks\":\"\",\"title\":{\"standoff\":15},\"zerolinecolor\":\"white\",\"automargin\":true,\"zerolinewidth\":2},\"scene\":{\"xaxis\":{\"backgroundcolor\":\"#E5ECF6\",\"gridcolor\":\"white\",\"linecolor\":\"white\",\"showbackground\":true,\"ticks\":\"\",\"zerolinecolor\":\"white\",\"gridwidth\":2},\"yaxis\":{\"backgroundcolor\":\"#E5ECF6\",\"gridcolor\":\"white\",\"linecolor\":\"white\",\"showbackground\":true,\"ticks\":\"\",\"zerolinecolor\":\"white\",\"gridwidth\":2},\"zaxis\":{\"backgroundcolor\":\"#E5ECF6\",\"gridcolor\":\"white\",\"linecolor\":\"white\",\"showbackground\":true,\"ticks\":\"\",\"zerolinecolor\":\"white\",\"gridwidth\":2}},\"shapedefaults\":{\"line\":{\"color\":\"#2a3f5f\"}},\"annotationdefaults\":{\"arrowcolor\":\"#2a3f5f\",\"arrowhead\":0,\"arrowwidth\":1},\"geo\":{\"bgcolor\":\"white\",\"landcolor\":\"#E5ECF6\",\"subunitcolor\":\"white\",\"showland\":true,\"showlakes\":true,\"lakecolor\":\"white\"},\"title\":{\"x\":0.05},\"mapbox\":{\"style\":\"light\"}}},\"legend\":{\"tracegroupgap\":0},\"title\":{\"text\":\"Medication Preference by Medical Condition\"},\"treemapcolorway\":[\"rgb(141,211,199)\",\"rgb(255,255,179)\",\"rgb(190,186,218)\",\"rgb(251,128,114)\",\"rgb(128,177,211)\",\"rgb(253,180,98)\",\"rgb(179,222,105)\",\"rgb(252,205,229)\",\"rgb(217,217,217)\",\"rgb(188,128,189)\",\"rgb(204,235,197)\",\"rgb(255,237,111)\"],\"margin\":{\"l\":20,\"r\":200,\"t\":50,\"b\":50}},                        {\"responsive\": true}                    ).then(function(){\n",
       "                            \n",
       "var gd = document.getElementById('bc60127f-9780-4104-b6ab-464b78da33d0');\n",
       "var x = new MutationObserver(function (mutations, observer) {{\n",
       "        var display = window.getComputedStyle(gd).display;\n",
       "        if (!display || display === 'none') {{\n",
       "            console.log([gd, 'removed!']);\n",
       "            Plotly.purge(gd);\n",
       "            observer.disconnect();\n",
       "        }}\n",
       "}});\n",
       "\n",
       "// Listen for the removal of the full notebook cells\n",
       "var notebookContainer = gd.closest('#notebook-container');\n",
       "if (notebookContainer) {{\n",
       "    x.observe(notebookContainer, {childList: true});\n",
       "}}\n",
       "\n",
       "// Listen for the clearing of the current output cell\n",
       "var outputEl = gd.closest('.output');\n",
       "if (outputEl) {{\n",
       "    x.observe(outputEl, {childList: true});\n",
       "}}\n",
       "\n",
       "                        })                };            </script>        </div>"
      ]
     },
     "metadata": {},
     "output_type": "display_data"
    }
   ],
   "source": [
    "import plotly.express as px\n",
    "\n",
    "grouped = df.groupby(['Medical Condition', 'Medication']).size().reset_index(name='Count')\n",
    "\n",
    "fig = px.treemap(\n",
    "    grouped,\n",
    "    path=['Medical Condition', 'Medication'],\n",
    "    values='Count',\n",
    "    color='Medical Condition',\n",
    "    color_discrete_sequence=px.colors.qualitative.Set3,  \n",
    "    title=\"Medication Preference by Medical Condition\"\n",
    ")\n",
    "\n",
    "fig.update_layout(\n",
    "    margin=dict(l=20, r=200, t=50, b=50) \n",
    ")\n",
    "\n",
    "fig.write_html(\"treemap_shift.html\")\n",
    "\n",
    "fig.show()"
   ]
  },
  {
   "cell_type": "code",
   "execution_count": null,
   "id": "319af965-e18b-4b24-96e9-7c2e21759a98",
   "metadata": {},
   "outputs": [
    {
     "data": {
      "text/html": [
       "<div>            <script src=\"https://cdnjs.cloudflare.com/ajax/libs/mathjax/2.7.5/MathJax.js?config=TeX-AMS-MML_SVG\"></script><script type=\"text/javascript\">if (window.MathJax && window.MathJax.Hub && window.MathJax.Hub.Config) {window.MathJax.Hub.Config({SVG: {font: \"STIX-Web\"}});}</script>                <script type=\"text/javascript\">window.PlotlyConfig = {MathJaxConfig: 'local'};</script>\n",
       "        <script charset=\"utf-8\" src=\"https://cdn.plot.ly/plotly-3.0.1.min.js\"></script>                <div id=\"2639f2dd-baf2-40e6-8aa5-2335e5d9d2a5\" class=\"plotly-graph-div\" style=\"height:525px; width:100%;\"></div>            <script type=\"text/javascript\">                window.PLOTLYENV=window.PLOTLYENV || {};                                if (document.getElementById(\"2639f2dd-baf2-40e6-8aa5-2335e5d9d2a5\")) {                    Plotly.newPlot(                        \"2639f2dd-baf2-40e6-8aa5-2335e5d9d2a5\",                        [{\"branchvalues\":\"total\",\"customdata\":[[\"(?)\"],[\"(?)\"],[\"(?)\"],[\"(?)\"],[\"(?)\"],[\"(?)\"],[\"Aspirin\"],[\"Aspirin\"],[\"Aspirin\"],[\"Aspirin\"],[\"Aspirin\"],[\"Aspirin\"],[\"Ibuprofen\"],[\"Ibuprofen\"],[\"Ibuprofen\"],[\"Ibuprofen\"],[\"Ibuprofen\"],[\"Ibuprofen\"],[\"Lipitor\"],[\"Lipitor\"],[\"Lipitor\"],[\"Lipitor\"],[\"Lipitor\"],[\"Lipitor\"],[\"Paracetamol\"],[\"Paracetamol\"],[\"Paracetamol\"],[\"Paracetamol\"],[\"Paracetamol\"],[\"Paracetamol\"],[\"Penicillin\"],[\"Penicillin\"],[\"Penicillin\"],[\"Penicillin\"],[\"Penicillin\"],[\"Penicillin\"]],\"domain\":{\"x\":[0.0,1.0],\"y\":[0.0,1.0]},\"hovertemplate\":\"labels=%{label}\\u003cbr\\u003eCount=%{value}\\u003cbr\\u003eparent=%{parent}\\u003cbr\\u003eid=%{id}\\u003cbr\\u003eMedication=%{customdata[0]}\\u003cextra\\u003e\\u003c\\u002fextra\\u003e\",\"ids\":[\"Obesity\",\"Diabetes\",\"Cancer\",\"Asthma\",\"Arthritis\",\"Hypertension\",\"Obesity\\u002fAspirin\",\"Hypertension\\u002fAspirin\",\"Diabetes\\u002fAspirin\",\"Cancer\\u002fAspirin\",\"Arthritis\\u002fAspirin\",\"Asthma\\u002fAspirin\",\"Cancer\\u002fIbuprofen\",\"Arthritis\\u002fIbuprofen\",\"Obesity\\u002fIbuprofen\",\"Diabetes\\u002fIbuprofen\",\"Hypertension\\u002fIbuprofen\",\"Asthma\\u002fIbuprofen\",\"Arthritis\\u002fLipitor\",\"Obesity\\u002fLipitor\",\"Hypertension\\u002fLipitor\",\"Diabetes\\u002fLipitor\",\"Asthma\\u002fLipitor\",\"Cancer\\u002fLipitor\",\"Diabetes\\u002fParacetamol\",\"Asthma\\u002fParacetamol\",\"Obesity\\u002fParacetamol\",\"Arthritis\\u002fParacetamol\",\"Cancer\\u002fParacetamol\",\"Hypertension\\u002fParacetamol\",\"Asthma\\u002fPenicillin\",\"Hypertension\\u002fPenicillin\",\"Cancer\\u002fPenicillin\",\"Obesity\\u002fPenicillin\",\"Arthritis\\u002fPenicillin\",\"Diabetes\\u002fPenicillin\"],\"labels\":[\"Obesity\",\"Diabetes\",\"Cancer\",\"Asthma\",\"Arthritis\",\"Hypertension\",\"Aspirin\",\"Aspirin\",\"Aspirin\",\"Aspirin\",\"Aspirin\",\"Aspirin\",\"Ibuprofen\",\"Ibuprofen\",\"Ibuprofen\",\"Ibuprofen\",\"Ibuprofen\",\"Ibuprofen\",\"Lipitor\",\"Lipitor\",\"Lipitor\",\"Lipitor\",\"Lipitor\",\"Lipitor\",\"Paracetamol\",\"Paracetamol\",\"Paracetamol\",\"Paracetamol\",\"Paracetamol\",\"Paracetamol\",\"Penicillin\",\"Penicillin\",\"Penicillin\",\"Penicillin\",\"Penicillin\",\"Penicillin\"],\"marker\":{\"colors\":[\"rgb(141,211,199)\",\"rgb(141,211,199)\",\"rgb(141,211,199)\",\"rgb(141,211,199)\",\"rgb(141,211,199)\",\"rgb(141,211,199)\",\"rgb(255,255,179)\",\"rgb(255,255,179)\",\"rgb(255,255,179)\",\"rgb(255,255,179)\",\"rgb(255,255,179)\",\"rgb(255,255,179)\",\"rgb(190,186,218)\",\"rgb(190,186,218)\",\"rgb(190,186,218)\",\"rgb(190,186,218)\",\"rgb(190,186,218)\",\"rgb(190,186,218)\",\"rgb(251,128,114)\",\"rgb(251,128,114)\",\"rgb(251,128,114)\",\"rgb(251,128,114)\",\"rgb(251,128,114)\",\"rgb(251,128,114)\",\"rgb(128,177,211)\",\"rgb(128,177,211)\",\"rgb(128,177,211)\",\"rgb(128,177,211)\",\"rgb(128,177,211)\",\"rgb(128,177,211)\",\"rgb(253,180,98)\",\"rgb(253,180,98)\",\"rgb(253,180,98)\",\"rgb(253,180,98)\",\"rgb(253,180,98)\",\"rgb(253,180,98)\"]},\"name\":\"\",\"parents\":[\"\",\"\",\"\",\"\",\"\",\"\",\"Obesity\",\"Hypertension\",\"Diabetes\",\"Cancer\",\"Arthritis\",\"Asthma\",\"Cancer\",\"Arthritis\",\"Obesity\",\"Diabetes\",\"Hypertension\",\"Asthma\",\"Arthritis\",\"Obesity\",\"Hypertension\",\"Diabetes\",\"Asthma\",\"Cancer\",\"Diabetes\",\"Asthma\",\"Obesity\",\"Arthritis\",\"Cancer\",\"Hypertension\",\"Asthma\",\"Hypertension\",\"Cancer\",\"Obesity\",\"Arthritis\",\"Diabetes\"],\"values\":{\"dtype\":\"f8\",\"bdata\":\"AAAAAACAlEAAAAAAAGCUQAAAAAAAMJVAAAAAAAAQlUAAAAAAANSUQAAAAAAADJVAAAAAAACQcUAAAAAAAKBwQAAAAAAAQGxAAAAAAADgb0AAAAAAAMBwQAAAAAAAcHBAAAAAAACQcEAAAAAAAABxQAAAAAAA4HBAAAAAAAAAcUAAAAAAAMBwQAAAAAAAkHFAAAAAAADgbkAAAAAAAABvQAAAAAAA8HJAAAAAAAAAcUAAAAAAAEBwQAAAAAAA8HFAAAAAAADgbUAAAAAAAFBwQAAAAAAAwHBAAAAAAACQcEAAAAAAAPBwQAAAAAAAMHBAAAAAAACwcUAAAAAAAGBvQAAAAAAAYHFAAAAAAACgbkAAAAAAAJBxQAAAAAAAcHJA\"},\"type\":\"treemap\"}],                        {\"template\":{\"data\":{\"histogram2dcontour\":[{\"type\":\"histogram2dcontour\",\"colorbar\":{\"outlinewidth\":0,\"ticks\":\"\"},\"colorscale\":[[0.0,\"#0d0887\"],[0.1111111111111111,\"#46039f\"],[0.2222222222222222,\"#7201a8\"],[0.3333333333333333,\"#9c179e\"],[0.4444444444444444,\"#bd3786\"],[0.5555555555555556,\"#d8576b\"],[0.6666666666666666,\"#ed7953\"],[0.7777777777777778,\"#fb9f3a\"],[0.8888888888888888,\"#fdca26\"],[1.0,\"#f0f921\"]]}],\"choropleth\":[{\"type\":\"choropleth\",\"colorbar\":{\"outlinewidth\":0,\"ticks\":\"\"}}],\"histogram2d\":[{\"type\":\"histogram2d\",\"colorbar\":{\"outlinewidth\":0,\"ticks\":\"\"},\"colorscale\":[[0.0,\"#0d0887\"],[0.1111111111111111,\"#46039f\"],[0.2222222222222222,\"#7201a8\"],[0.3333333333333333,\"#9c179e\"],[0.4444444444444444,\"#bd3786\"],[0.5555555555555556,\"#d8576b\"],[0.6666666666666666,\"#ed7953\"],[0.7777777777777778,\"#fb9f3a\"],[0.8888888888888888,\"#fdca26\"],[1.0,\"#f0f921\"]]}],\"heatmap\":[{\"type\":\"heatmap\",\"colorbar\":{\"outlinewidth\":0,\"ticks\":\"\"},\"colorscale\":[[0.0,\"#0d0887\"],[0.1111111111111111,\"#46039f\"],[0.2222222222222222,\"#7201a8\"],[0.3333333333333333,\"#9c179e\"],[0.4444444444444444,\"#bd3786\"],[0.5555555555555556,\"#d8576b\"],[0.6666666666666666,\"#ed7953\"],[0.7777777777777778,\"#fb9f3a\"],[0.8888888888888888,\"#fdca26\"],[1.0,\"#f0f921\"]]}],\"contourcarpet\":[{\"type\":\"contourcarpet\",\"colorbar\":{\"outlinewidth\":0,\"ticks\":\"\"}}],\"contour\":[{\"type\":\"contour\",\"colorbar\":{\"outlinewidth\":0,\"ticks\":\"\"},\"colorscale\":[[0.0,\"#0d0887\"],[0.1111111111111111,\"#46039f\"],[0.2222222222222222,\"#7201a8\"],[0.3333333333333333,\"#9c179e\"],[0.4444444444444444,\"#bd3786\"],[0.5555555555555556,\"#d8576b\"],[0.6666666666666666,\"#ed7953\"],[0.7777777777777778,\"#fb9f3a\"],[0.8888888888888888,\"#fdca26\"],[1.0,\"#f0f921\"]]}],\"surface\":[{\"type\":\"surface\",\"colorbar\":{\"outlinewidth\":0,\"ticks\":\"\"},\"colorscale\":[[0.0,\"#0d0887\"],[0.1111111111111111,\"#46039f\"],[0.2222222222222222,\"#7201a8\"],[0.3333333333333333,\"#9c179e\"],[0.4444444444444444,\"#bd3786\"],[0.5555555555555556,\"#d8576b\"],[0.6666666666666666,\"#ed7953\"],[0.7777777777777778,\"#fb9f3a\"],[0.8888888888888888,\"#fdca26\"],[1.0,\"#f0f921\"]]}],\"mesh3d\":[{\"type\":\"mesh3d\",\"colorbar\":{\"outlinewidth\":0,\"ticks\":\"\"}}],\"scatter\":[{\"fillpattern\":{\"fillmode\":\"overlay\",\"size\":10,\"solidity\":0.2},\"type\":\"scatter\"}],\"parcoords\":[{\"type\":\"parcoords\",\"line\":{\"colorbar\":{\"outlinewidth\":0,\"ticks\":\"\"}}}],\"scatterpolargl\":[{\"type\":\"scatterpolargl\",\"marker\":{\"colorbar\":{\"outlinewidth\":0,\"ticks\":\"\"}}}],\"bar\":[{\"error_x\":{\"color\":\"#2a3f5f\"},\"error_y\":{\"color\":\"#2a3f5f\"},\"marker\":{\"line\":{\"color\":\"#E5ECF6\",\"width\":0.5},\"pattern\":{\"fillmode\":\"overlay\",\"size\":10,\"solidity\":0.2}},\"type\":\"bar\"}],\"scattergeo\":[{\"type\":\"scattergeo\",\"marker\":{\"colorbar\":{\"outlinewidth\":0,\"ticks\":\"\"}}}],\"scatterpolar\":[{\"type\":\"scatterpolar\",\"marker\":{\"colorbar\":{\"outlinewidth\":0,\"ticks\":\"\"}}}],\"histogram\":[{\"marker\":{\"pattern\":{\"fillmode\":\"overlay\",\"size\":10,\"solidity\":0.2}},\"type\":\"histogram\"}],\"scattergl\":[{\"type\":\"scattergl\",\"marker\":{\"colorbar\":{\"outlinewidth\":0,\"ticks\":\"\"}}}],\"scatter3d\":[{\"type\":\"scatter3d\",\"line\":{\"colorbar\":{\"outlinewidth\":0,\"ticks\":\"\"}},\"marker\":{\"colorbar\":{\"outlinewidth\":0,\"ticks\":\"\"}}}],\"scattermap\":[{\"type\":\"scattermap\",\"marker\":{\"colorbar\":{\"outlinewidth\":0,\"ticks\":\"\"}}}],\"scattermapbox\":[{\"type\":\"scattermapbox\",\"marker\":{\"colorbar\":{\"outlinewidth\":0,\"ticks\":\"\"}}}],\"scatterternary\":[{\"type\":\"scatterternary\",\"marker\":{\"colorbar\":{\"outlinewidth\":0,\"ticks\":\"\"}}}],\"scattercarpet\":[{\"type\":\"scattercarpet\",\"marker\":{\"colorbar\":{\"outlinewidth\":0,\"ticks\":\"\"}}}],\"carpet\":[{\"aaxis\":{\"endlinecolor\":\"#2a3f5f\",\"gridcolor\":\"white\",\"linecolor\":\"white\",\"minorgridcolor\":\"white\",\"startlinecolor\":\"#2a3f5f\"},\"baxis\":{\"endlinecolor\":\"#2a3f5f\",\"gridcolor\":\"white\",\"linecolor\":\"white\",\"minorgridcolor\":\"white\",\"startlinecolor\":\"#2a3f5f\"},\"type\":\"carpet\"}],\"table\":[{\"cells\":{\"fill\":{\"color\":\"#EBF0F8\"},\"line\":{\"color\":\"white\"}},\"header\":{\"fill\":{\"color\":\"#C8D4E3\"},\"line\":{\"color\":\"white\"}},\"type\":\"table\"}],\"barpolar\":[{\"marker\":{\"line\":{\"color\":\"#E5ECF6\",\"width\":0.5},\"pattern\":{\"fillmode\":\"overlay\",\"size\":10,\"solidity\":0.2}},\"type\":\"barpolar\"}],\"pie\":[{\"automargin\":true,\"type\":\"pie\"}]},\"layout\":{\"autotypenumbers\":\"strict\",\"colorway\":[\"#636efa\",\"#EF553B\",\"#00cc96\",\"#ab63fa\",\"#FFA15A\",\"#19d3f3\",\"#FF6692\",\"#B6E880\",\"#FF97FF\",\"#FECB52\"],\"font\":{\"color\":\"#2a3f5f\"},\"hovermode\":\"closest\",\"hoverlabel\":{\"align\":\"left\"},\"paper_bgcolor\":\"white\",\"plot_bgcolor\":\"#E5ECF6\",\"polar\":{\"bgcolor\":\"#E5ECF6\",\"angularaxis\":{\"gridcolor\":\"white\",\"linecolor\":\"white\",\"ticks\":\"\"},\"radialaxis\":{\"gridcolor\":\"white\",\"linecolor\":\"white\",\"ticks\":\"\"}},\"ternary\":{\"bgcolor\":\"#E5ECF6\",\"aaxis\":{\"gridcolor\":\"white\",\"linecolor\":\"white\",\"ticks\":\"\"},\"baxis\":{\"gridcolor\":\"white\",\"linecolor\":\"white\",\"ticks\":\"\"},\"caxis\":{\"gridcolor\":\"white\",\"linecolor\":\"white\",\"ticks\":\"\"}},\"coloraxis\":{\"colorbar\":{\"outlinewidth\":0,\"ticks\":\"\"}},\"colorscale\":{\"sequential\":[[0.0,\"#0d0887\"],[0.1111111111111111,\"#46039f\"],[0.2222222222222222,\"#7201a8\"],[0.3333333333333333,\"#9c179e\"],[0.4444444444444444,\"#bd3786\"],[0.5555555555555556,\"#d8576b\"],[0.6666666666666666,\"#ed7953\"],[0.7777777777777778,\"#fb9f3a\"],[0.8888888888888888,\"#fdca26\"],[1.0,\"#f0f921\"]],\"sequentialminus\":[[0.0,\"#0d0887\"],[0.1111111111111111,\"#46039f\"],[0.2222222222222222,\"#7201a8\"],[0.3333333333333333,\"#9c179e\"],[0.4444444444444444,\"#bd3786\"],[0.5555555555555556,\"#d8576b\"],[0.6666666666666666,\"#ed7953\"],[0.7777777777777778,\"#fb9f3a\"],[0.8888888888888888,\"#fdca26\"],[1.0,\"#f0f921\"]],\"diverging\":[[0,\"#8e0152\"],[0.1,\"#c51b7d\"],[0.2,\"#de77ae\"],[0.3,\"#f1b6da\"],[0.4,\"#fde0ef\"],[0.5,\"#f7f7f7\"],[0.6,\"#e6f5d0\"],[0.7,\"#b8e186\"],[0.8,\"#7fbc41\"],[0.9,\"#4d9221\"],[1,\"#276419\"]]},\"xaxis\":{\"gridcolor\":\"white\",\"linecolor\":\"white\",\"ticks\":\"\",\"title\":{\"standoff\":15},\"zerolinecolor\":\"white\",\"automargin\":true,\"zerolinewidth\":2},\"yaxis\":{\"gridcolor\":\"white\",\"linecolor\":\"white\",\"ticks\":\"\",\"title\":{\"standoff\":15},\"zerolinecolor\":\"white\",\"automargin\":true,\"zerolinewidth\":2},\"scene\":{\"xaxis\":{\"backgroundcolor\":\"#E5ECF6\",\"gridcolor\":\"white\",\"linecolor\":\"white\",\"showbackground\":true,\"ticks\":\"\",\"zerolinecolor\":\"white\",\"gridwidth\":2},\"yaxis\":{\"backgroundcolor\":\"#E5ECF6\",\"gridcolor\":\"white\",\"linecolor\":\"white\",\"showbackground\":true,\"ticks\":\"\",\"zerolinecolor\":\"white\",\"gridwidth\":2},\"zaxis\":{\"backgroundcolor\":\"#E5ECF6\",\"gridcolor\":\"white\",\"linecolor\":\"white\",\"showbackground\":true,\"ticks\":\"\",\"zerolinecolor\":\"white\",\"gridwidth\":2}},\"shapedefaults\":{\"line\":{\"color\":\"#2a3f5f\"}},\"annotationdefaults\":{\"arrowcolor\":\"#2a3f5f\",\"arrowhead\":0,\"arrowwidth\":1},\"geo\":{\"bgcolor\":\"white\",\"landcolor\":\"#E5ECF6\",\"subunitcolor\":\"white\",\"showland\":true,\"showlakes\":true,\"lakecolor\":\"white\"},\"title\":{\"x\":0.05},\"mapbox\":{\"style\":\"light\"}}},\"legend\":{\"tracegroupgap\":0},\"title\":{\"text\":\"Medication Preference by Medical Condition\"},\"treemapcolorway\":[\"rgb(141,211,199)\",\"rgb(255,255,179)\",\"rgb(190,186,218)\",\"rgb(251,128,114)\",\"rgb(128,177,211)\",\"rgb(253,180,98)\",\"rgb(179,222,105)\",\"rgb(252,205,229)\",\"rgb(217,217,217)\",\"rgb(188,128,189)\",\"rgb(204,235,197)\",\"rgb(255,237,111)\"],\"margin\":{\"l\":20,\"r\":200,\"t\":50,\"b\":50}},                        {\"responsive\": true}                    ).then(function(){\n",
       "                            \n",
       "var gd = document.getElementById('2639f2dd-baf2-40e6-8aa5-2335e5d9d2a5');\n",
       "var x = new MutationObserver(function (mutations, observer) {{\n",
       "        var display = window.getComputedStyle(gd).display;\n",
       "        if (!display || display === 'none') {{\n",
       "            console.log([gd, 'removed!']);\n",
       "            Plotly.purge(gd);\n",
       "            observer.disconnect();\n",
       "        }}\n",
       "}});\n",
       "\n",
       "// Listen for the removal of the full notebook cells\n",
       "var notebookContainer = gd.closest('#notebook-container');\n",
       "if (notebookContainer) {{\n",
       "    x.observe(notebookContainer, {childList: true});\n",
       "}}\n",
       "\n",
       "// Listen for the clearing of the current output cell\n",
       "var outputEl = gd.closest('.output');\n",
       "if (outputEl) {{\n",
       "    x.observe(outputEl, {childList: true});\n",
       "}}\n",
       "\n",
       "                        })                };            </script>        </div>"
      ]
     },
     "metadata": {},
     "output_type": "display_data"
    }
   ],
   "source": [
    "import plotly.express as px\n",
    "\n",
    "\n",
    "grouped = df.groupby(['Medical Condition', 'Medication']).size().reset_index(name='Count')\n",
    "\n",
    "fig = px.treemap(\n",
    "    grouped,\n",
    "    path=['Medical Condition', 'Medication'],\n",
    "    values='Count',\n",
    "    color='Medication',  # <-- THIS IS THE CHANGE\n",
    "    color_discrete_sequence=px.colors.qualitative.Set3\n",
    ")\n",
    "\n",
    "fig.update_layout(\n",
    "    title=None,\n",
    "     font=dict(\n",
    "            family=\"sans-serif\",\n",
    "            size=11, \n",
    "            color=\"black\"\n",
    "    ),\n",
    "    margin=dict(l=20, r=200, t=50, b=50) \n",
    ")\n",
    "\n",
    "fig.write_html(\"treemap_updated.html\")\n",
    "\n",
    "\n",
    "fig.show()"
   ]
  }
 ],
 "metadata": {
  "kernelspec": {
   "display_name": "Python 3 (ipykernel)",
   "language": "python",
   "name": "python3"
  },
  "language_info": {
   "codemirror_mode": {
    "name": "ipython",
    "version": 3
   },
   "file_extension": ".py",
   "mimetype": "text/x-python",
   "name": "python",
   "nbconvert_exporter": "python",
   "pygments_lexer": "ipython3",
   "version": "3.12.2"
  }
 },
 "nbformat": 4,
 "nbformat_minor": 5
}
