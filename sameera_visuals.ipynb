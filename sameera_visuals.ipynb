{
 "cells": [
  {
   "cell_type": "code",
   "execution_count": 2,
   "id": "0545dad0-86f3-43a0-904b-c49e5950426c",
   "metadata": {},
   "outputs": [
    {
     "name": "stdout",
     "output_type": "stream",
     "text": [
      "Requirement already satisfied: plotly in /Users/sameeraboga/Desktop/anaconda3/lib/python3.12/site-packages (6.0.1)\n",
      "Requirement already satisfied: narwhals>=1.15.1 in /Users/sameeraboga/Desktop/anaconda3/lib/python3.12/site-packages (from plotly) (1.27.1)\n",
      "Requirement already satisfied: packaging in /Users/sameeraboga/Desktop/anaconda3/lib/python3.12/site-packages (from plotly) (23.2)\n"
     ]
    }
   ],
   "source": [
    "!pip install plotly --upgrade"
   ]
  },
  {
   "cell_type": "code",
   "execution_count": null,
   "id": "d6517a2a-3129-4e0a-88cd-25067e0d62e9",
   "metadata": {},
   "outputs": [
    {
     "ename": "ModuleNotFoundError",
     "evalue": "No module named 'pandas'",
     "output_type": "error",
     "traceback": [
      "\u001b[0;31m---------------------------------------------------------------------------\u001b[0m",
      "\u001b[0;31mModuleNotFoundError\u001b[0m                       Traceback (most recent call last)",
      "Cell \u001b[0;32mIn[3], line 1\u001b[0m\n\u001b[0;32m----> 1\u001b[0m \u001b[38;5;28;01mimport\u001b[39;00m\u001b[38;5;250m \u001b[39m\u001b[38;5;21;01mpandas\u001b[39;00m\u001b[38;5;250m \u001b[39m\u001b[38;5;28;01mas\u001b[39;00m\u001b[38;5;250m \u001b[39m\u001b[38;5;21;01mpd\u001b[39;00m\n\u001b[1;32m      2\u001b[0m \u001b[38;5;28;01mimport\u001b[39;00m\u001b[38;5;250m \u001b[39m\u001b[38;5;21;01mplotly\u001b[39;00m\u001b[38;5;21;01m.\u001b[39;00m\u001b[38;5;21;01mexpress\u001b[39;00m\u001b[38;5;250m \u001b[39m\u001b[38;5;28;01mas\u001b[39;00m\u001b[38;5;250m \u001b[39m\u001b[38;5;21;01mpx\u001b[39;00m\n\u001b[1;32m      3\u001b[0m \u001b[38;5;28;01mimport\u001b[39;00m\u001b[38;5;250m \u001b[39m\u001b[38;5;21;01mplotly\u001b[39;00m\u001b[38;5;21;01m.\u001b[39;00m\u001b[38;5;21;01mio\u001b[39;00m\u001b[38;5;250m \u001b[39m\u001b[38;5;28;01mas\u001b[39;00m\u001b[38;5;250m \u001b[39m\u001b[38;5;21;01mpio\u001b[39;00m\n",
      "\u001b[0;31mModuleNotFoundError\u001b[0m: No module named 'pandas'"
     ]
    }
   ],
   "source": [
    "import pandas as pd\n",
    "import plotly.express as px\n",
    "import plotly.io as pio\n",
    "\n",
    "pio.renderers.default = \"notebook_connected\"\n",
    "\n",
    "file_path = \"healthcare_dataset_cleaned.csv\"  \n",
    "df = pd.read_csv(file_path)\n",
    "\n",
    "if \"Duration of Stay\" not in df.columns:\n",
    "    df[\"Duration of Stay\"] = (df[\"Discharge Date\"] - df[\"Date of Admission\"]).dt.days\n",
    "\n",
    "age_bins = [0, 18, 35, 50, 65, 80, 100]\n",
    "age_labels = [\"0-18\", \"19-35\", \"36-50\", \"51-65\", \"66-80\", \"81-100\"]\n",
    "df[\"Age Group\"] = pd.cut(df[\"Age\"], bins=age_bins, labels=age_labels, right=False)\n",
    "\n",
    "fig = px.box(df, x=\"Age Group\", y=\"Duration of Stay\", points=\"all\",\n",
    "             title=\"Interactive Boxplot: Duration of Stay by Age Group\",\n",
    "             labels={\"Age Group\": \"Age Group\", \"Duration of Stay\": \"Duration of Stay (Days)\"},\n",
    "             hover_data=[\"Age Group\"])\n",
    "\n",
    "# Show plot\n",
    "fig.show(renderer=\"notebook_connected\") "
   ]
  }
 ],
 "metadata": {
  "kernelspec": {
   "display_name": "Python 3",
   "language": "python",
   "name": "python3"
  },
  "language_info": {
   "codemirror_mode": {
    "name": "ipython",
    "version": 3
   },
   "file_extension": ".py",
   "mimetype": "text/x-python",
   "name": "python",
   "nbconvert_exporter": "python",
   "pygments_lexer": "ipython3",
   "version": "3.9.6"
  }
 },
 "nbformat": 4,
 "nbformat_minor": 5
}
